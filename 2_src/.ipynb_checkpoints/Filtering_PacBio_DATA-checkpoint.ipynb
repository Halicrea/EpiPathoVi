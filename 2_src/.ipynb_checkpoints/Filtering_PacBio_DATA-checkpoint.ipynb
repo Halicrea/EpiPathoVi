{
 "cells": [
  {
   "cell_type": "markdown",
   "id": "46303512-4b19-4e98-b070-b4acee2de3d3",
   "metadata": {},
   "source": [
    "# Filtering epigenetic data from PacBio Sequencing\n",
    "## 0. HEADER\n",
    "### 0.1. Load libraries "
   ]
  },
  {
   "cell_type": "code",
   "execution_count": 1,
   "id": "0692c15c-933f-421b-b0d4-8a62b6a503e0",
   "metadata": {
    "tags": []
   },
   "outputs": [],
   "source": [
    "import subprocess\n",
    "from multiprocessing import Pool\n",
    "\n",
    "import pandas as ours\n",
    "import numpy as np\n",
    "from Bio import SeqIO\n",
    "from Bio.Seq import Seq\n",
    "from Bio import motifs\n",
    "from itertools import product"
   ]
  },
  {
   "cell_type": "markdown",
   "id": "e7d19779-ec4b-405a-9718-279025545feb",
   "metadata": {},
   "source": [
    "### 0.2. General functions"
   ]
  },
  {
   "cell_type": "code",
   "execution_count": 2,
   "id": "9f60d2c2-007d-4899-9606-8e3a6e513c3a",
   "metadata": {
    "tags": []
   },
   "outputs": [],
   "source": [
    "def ambiguous_dna_list(seq):\n",
    "    \"\"\"return list of all possible sequences given an ambiguous DNA input\"\"\"\n",
    "    d = ambiguous_dna_values\n",
    "    return list(map(\"\".join, product(*map(d.get, seq))))"
   ]
  },
  {
   "cell_type": "markdown",
   "id": "910b5543-cfa0-4c7c-a248-8df0b15571bf",
   "metadata": {},
   "source": [
    "## 1. Loading DATA"
   ]
  },
  {
   "cell_type": "code",
   "execution_count": 3,
   "id": "deef6cd5-93e6-4658-8118-122f0f0e432f",
   "metadata": {
    "tags": []
   },
   "outputs": [
    {
     "name": "stdout",
     "output_type": "stream",
     "text": [
      "       seqid  position                                    context type strand  \\\n",
      "7   contig_1       975  TGGGTGGTAATTAACCTCAGATCGGTTTAAGCCATCGCCAT  m6A      -   \n",
      "8   contig_1      1247  GATGGCGATGGCTTAAACCGATCTGAGGTTAATTAATAGGT  m6A      +   \n",
      "9   contig_1      1248  AACCTATTAATTAACCTCAGATCGGTTTAAGCCATCGCCAT  m6A      -   \n",
      "10  contig_1      1548  AATATCGTACCGTTATTGAGAATATTACTGCTGGTTCAAAT  m6A      +   \n",
      "11  contig_1      1556  ATGATGTCATTTGAACCAGCAGTAATATTCTCAATAACGGT  m6A      -   \n",
      "12  contig_1      1759  AGTTCACAATGAGCTCTCAGATCGTAGCCATGCTAATGGTC  m6A      +   \n",
      "13  contig_1      1760  TGACCATTAGCATGGCTACGATCTGAGAGCTCATTGTGAAC  m6A      -   \n",
      "14  contig_1      2680  TGTAGACCGAGTAGATTGGGATCGACGAGATGAGGAACTTG  m6A      +   \n",
      "15  contig_1      2681  ACAAGTTCCTCATCTCGTCGATCCCAATCTACTCGGTCTAC  m6A      -   \n",
      "16  contig_1      3546  TTACCATGGCAAGGTGTTTGATCCTGCTTGTGGTAGTGGTG  m6A      +   \n",
      "17  contig_1      3547  CCACCACTACCACAAGCAGGATCAAACACCTTGCCATGGTA  m6A      -   \n",
      "18  contig_1      3621  CCATAATAAAAACGCGTCTGATCAGCTATCCATTTTTGGCC  m6A      +   \n",
      "19  contig_1      3622  TGGCCAAAAATGGATAGCTGATCAGACGCGTTTTTATTATG  m6A      -   \n",
      "20  contig_1      4626  AAGAAATTGCATGAACTTGCAGATGTATTTTCTGGCTATGC  m6A      +   \n",
      "21  contig_1      4634  TTTTGAAGGCATAGCCAGAAAATACATCTGCAAGTTCATGC  m6A      -   \n",
      "22  contig_1      4661  CTATGCCTTCAAAAGTAAAGATCTAGGCGAAAATGGTATTC  m6A      +   \n",
      "23  contig_1      4662  GGAATACCATTTTCGCCTAGATCTTTACTTTTGAAGGCATA  m6A      -   \n",
      "24  contig_1      4733  AATTGTATCTAAACAATGTGATCAGTTCTTGCCTGATGATT  m6A      +   \n",
      "25  contig_1      4734  AAATCATCAGGCAAGAACTGATCACATTGTTTAGATACAAT  m6A      -   \n",
      "26  contig_1      5125  TCGAAAACAACAACCAGCGGATCGCTATCTTAGAAGATATG  m6A      +   \n",
      "\n",
      "            motif        statut  Score_016  Coverage_016  IPDRatio_016  \\\n",
      "7            GATC  differential       36.0          17.0          7.83   \n",
      "8            GATC  differential       52.0          18.0          6.90   \n",
      "9            GATC     conserved       39.0          17.0          5.27   \n",
      "10  GARANNNNNNCTG     conserved       39.0          21.0          4.64   \n",
      "11  CAGNNNNNNTYTC  differential       31.0          21.0          4.12   \n",
      "12           GATC     conserved       63.0          26.0          6.69   \n",
      "13           GATC     conserved       58.0          25.0          3.99   \n",
      "14           GATC     conserved       55.0          34.0          3.97   \n",
      "15           GATC     conserved       84.0          35.0          4.42   \n",
      "16           GATC     conserved       59.0          47.0          5.24   \n",
      "17           GATC     conserved       98.0          54.0          4.96   \n",
      "18           GATC     conserved       89.0          46.0          6.21   \n",
      "19           GATC     conserved      107.0          53.0          6.64   \n",
      "20  CAGNNNNNNTYTC     conserved      129.0          72.0          6.69   \n",
      "21  GARANNNNNNCTG     conserved      114.0          82.0          5.11   \n",
      "22           GATC     conserved      114.0          70.0          5.17   \n",
      "23           GATC     conserved      151.0          82.0          6.02   \n",
      "24           GATC     conserved      176.0          72.0          5.85   \n",
      "25           GATC     conserved      142.0          77.0          5.79   \n",
      "26           GATC     conserved      113.0          78.0          5.05   \n",
      "\n",
      "    Fraction_016  \n",
      "7           1.00  \n",
      "8           1.00  \n",
      "9           1.00  \n",
      "10          1.00  \n",
      "11          0.80  \n",
      "12          1.00  \n",
      "13          1.00  \n",
      "14          0.98  \n",
      "15          1.00  \n",
      "16          0.94  \n",
      "17          1.00  \n",
      "18          1.00  \n",
      "19          1.00  \n",
      "20          1.00  \n",
      "21          0.99  \n",
      "22          1.00  \n",
      "23          1.00  \n",
      "24          1.00  \n",
      "25          0.99  \n",
      "26          1.00  \n"
     ]
    }
   ],
   "source": [
    "# Loading a strain genome (12_016)\n",
    "genome_12_016 = SeqIO.parse(open(\"../Vaestuarianus_GENOME/VAESTLR12016.1-Contigs.fasta\"),'fasta')\n",
    "\n",
    "# Reading the PacBio DATA and storing it in a dataframe\n",
    "df_PACBIO = ours.read_csv(r'../Differences_epi_12-016_02-041_07-115/Methylation_Vaestu_alt.csv')\n",
    "\n",
    "\n",
    "# Selecting rows with non-null values for Score_016 and keeping only the first 11 columns\n",
    "df_12_016 = df_PACBIO.loc[~df_PACBIO['Score_016'].isna(), df_PACBIO.columns[0:11]]\n",
    "\n",
    "# Selecting rows with non-null values for Score_115 and keeping columns 1-7 and 12-15\n",
    "df_07_115 = df_PACBIO.loc[~df_PACBIO['Score_115'].isna(), df_PACBIO.columns[[*range(0,7), *range(11,15)]]]\n",
    "\n",
    "# Selecting rows with non-null values for Score_041 and keeping columns 1-7 and 16-19\n",
    "df_02_041 = df_PACBIO.loc[~df_PACBIO['Score_041'].isna(), df_PACBIO.columns[[*range(0,7), *range(15,19)]]]\n",
    "\n",
    "print(df_12_016.head(20))"
   ]
  },
  {
   "cell_type": "code",
   "execution_count": 4,
   "id": "fa76f89c-086f-48c1-b6ed-ec149e98d589",
   "metadata": {
    "tags": []
   },
   "outputs": [],
   "source": [
    "_#### - 1.1. Separate in multiple DATA-FRAME the motifs for a strain\n",
    "motif_GATC_12_016 = df_12_016[(df_12_016[\"motif\"] == \"GATC\") | (df_12_016[\"motif\"] == \"GATC (GARANNNNNNCTG,GATC)\")].iloc[:, 0:3]\n",
    "motif_CAGNNNNNNTYTC_12_016 = df_12_016[df_12_016[\"motif\"] == \"CAGNNNNNNTYTC\"].iloc[:, 0:3]\n",
    "motif_GARANNNNNNCTG_12_016 = df_12_016[(df_12_016[\"motif\"] == \"GARANNNNNNCTG\") | (df_12_016[\"motif\"] == \"GARANNNNNNCTG (ACCNNNNNNNTTCY,GARANNNNNNCTG)\")].iloc[:, 0:3]\n",
    "motif_GGWCC_12_016 = df_12_016[df_12_016[\"motif\"] == \"GGWCC\"].iloc[:, 0:3]\n",
    "motif_GTAYNNNNGTTA_12_016 = df_12_016[df_12_016[\"motif\"] == \"GTAYNNNNGTTA\"].iloc[:, 0:2]\n",
    "motif_TAACNNNNRTAC_12_016 = df_12_016[df_12_016[\"motif\"] == \"TAACNNNNRTAC\"].iloc[:, 0:2]\n",
    "motif_RGAANNNNNNNGGT_12_016 = df_12_016[df_12_016[\"motif\"] == \"RGAANNNNNNNGGT\"].iloc[:, 0:2]\n",
    "motif_ACCNNNNNNNTTCY_12_016 = df_12_016[(df_12_016[\"motif\"] == \"ACCNNNNNNNTTCY\") | (df_12_016[\"motif\"] == \"ACCNNNNNNNTTCY,RGAANNNNNNNGGT\")].iloc[:, 0:2]"
   ]
  },
  {
   "cell_type": "code",
   "execution_count": null,
   "id": "f2b8006a-84c9-46ba-9d16-b71da7813d8b",
   "metadata": {
    "tags": []
   },
   "outputs": [],
   "source": []
  },
  {
   "cell_type": "markdown",
   "id": "d6d282d0-98e7-45a8-8871-ffc4f1486510",
   "metadata": {},
   "source": [
    "### 1.1. Separate in multiple DATA-FRAME the motifs for a strain"
   ]
  },
  {
   "cell_type": "code",
   "execution_count": 5,
   "id": "27be4bd9-c1c2-4c62-b85f-70f5caa5cfc0",
   "metadata": {
    "tags": []
   },
   "outputs": [],
   "source": [
    "#### - 1.1. Separate in multiple DATA-FRAME the motifs for a strain\n",
    "#### - 1.2. Creating a function to automatise the processus of exporting the coordinates data for each motifs\n",
    "def export_motifs(df, strain_name):\n",
    "    print(df.head())\n",
    "    motif_GATC = df[(df[\"motif\"] == \"GATC\") | (df[\"motif\"] == \"GATC (GARANNNNNNCTG,GATC)\")][[\"position\", \"context\"]]\n",
    "    motif_CAGNNNNNNTYTC = df[df[\"motif\"] == \"CAGNNNNNNTYTC\"][[\"position\", \"context\"]]\n",
    "    motif_GARANNNNNNCTG = df[(df[\"motif\"] == \"GARANNNNNNCTG\") | (df[\"motif\"] == \"GARANNNNNNCTG (ACCNNNNNNNTTCY,GARANNNNNNCTG)\")][[\"position\", \"context\"]]\n",
    "    motif_GGWCC = df[df[\"motif\"] == \"GGWCC\"][[\"position\", \"context\"]]\n",
    "    motif_GTAYNNNNGTTA = df[df[\"motif\"] == \"GTAYNNNNGTTA\"][[\"position\", \"context\"]]\n",
    "    motif_TAACNNNNRTAC = df[df[\"motif\"] == \"TAACNNNNRTAC\"][[\"position\", \"context\"]]\n",
    "    motif_RGAANNNNNNNGGT = df[df[\"motif\"] == \"RGAANNNNNNNGGT\"][[\"position\", \"context\"]]\n",
    "    motif_ACCNNNNNNNTTCY = df[(df[\"motif\"] == \"ACCNNNNNNNTTCY\") | (df[\"motif\"] == \"ACCNNNNNNNTTCY,RGAANNNNNNNGGT\")][[\"position\", \"context\"]]\n",
    "  \n",
    "    # We calculate and add the end position of the motif\n",
    "    motif_GATC[\"end_pos\"] = motif_GATC[\"position\"] + 4\n",
    "    motif_CAGNNNNNNTYTC[\"end_pos\"] = motif_CAGNNNNNNTYTC[\"position\"] + 13\n",
    "    motif_GARANNNNNNCTG[\"end_pos\"] = motif_GARANNNNNNCTG[\"position\"] + 13\n",
    "    motif_GGWCC[\"end_pos\"] = motif_GGWCC[\"position\"] + 5\n",
    "    motif_GTAYNNNNGTTA[\"end_pos\"] = motif_GTAYNNNNGTTA[\"position\"] + 12\n",
    "    motif_TAACNNNNRTAC[\"end_pos\"] = motif_TAACNNNNRTAC[\"position\"] + 12\n",
    "    motif_RGAANNNNNNNGGT[\"end_pos\"] = motif_RGAANNNNNNNGGT[\"position\"] + 14\n",
    "    motif_ACCNNNNNNNTTCY[\"end_pos\"] = motif_ACCNNNNNNNTTCY[\"position\"] + 14\n",
    "  \n",
    "    # We can then export those dataframes\n",
    "    motif_GATC.to_csv(f\"./MOTIFS/motif_GATC_{strain_name}.txt\", sep=\" \", header=False, index=False, quoting=None)\n",
    "    motif_CAGNNNNNNTYTC.to_csv(f\"./MOTIFS/motif_CAGNNNNNNTYTC_{strain_name}.txt\", sep=\" \", header=False, index=False, quoting=None)\n",
    "    motif_GARANNNNNNCTG.to_csv(f\"./MOTIFS/motif_GARANNNNNNCTG_{strain_name}.txt\", sep=\" \", header=False, index=False, quoting=None)\n",
    "    motif_GGWCC.to_csv(f\"./MOTIFS/motif_GGWCC_{strain_name}.txt\", sep=\" \", header=False, index=False, quoting=None)\n",
    "    motif_GTAYNNNNGTTA.to_csv(f\"./MOTIFS/motif_GTAYNNNNGTTA_{strain_name}.txt\", sep=\" \", header=False, index=False, quoting=None)\n",
    "    motif_TAACNNNNRTAC.to_csv(f\"./MOTIFS/motif_TAACNNNNRTAC_{strain_name}.txt\", sep=\" \", header=False, index=False, quoting=None)\n",
    "    motif_RGAANNNNNNNGGT.to_csv(f\"./MOTIFS/motif_RGAANNNNNNNGGT_{strain_name}.txt\", sep=\" \", header=False, index=False, quoting=None)\n",
    "    motif_ACCNNNNNNNTTCY.to_csv(f\"./MOTIFS/motif_ACCNNNNNNNTTCY_{strain_name}.txt\", sep=\" \", header=False, index=False, quoting=None)\n",
    "\n"
   ]
  },
  {
   "cell_type": "markdown",
   "id": "23e04966-e3b0-4e49-a9c0-b45459e1babf",
   "metadata": {
    "tags": []
   },
   "source": [
    "## 2. Finding coordinates of context sequences in a genome to find true coordinates of methylations marks\n",
    "### 2.1."
   ]
  },
  {
   "cell_type": "code",
   "execution_count": 10,
   "id": "5df165a3-3b53-4d37-896d-d4abdd04afcc",
   "metadata": {
    "tags": []
   },
   "outputs": [],
   "source": [
    "motifs_list = df_12_016[\"context\"].values.tolist()\n",
    "process_list= ours.DataFrame({\n",
    "    \"Position\": ours.Series(dtype = \"int\"),\n",
    "    \"Contig\" : ours.Series(dtype = \"int\")\n",
    "})\n",
    "process_tmp = \"\"\n",
    "\n",
    "Motifs_context = ' '.join(motifs_list)\n",
    "for motifs in range(10):\n",
    "    process = subprocess.run(['../0_bin/Finding_context_of_motif', '../Vaestuarianus_GENOME/Vaestlr12016-contigs.fasta',motifs_list[motifs]], \n",
    "                            capture_output=True,\n",
    "                            text = True)\n",
    "    process_tmp = process.stdout\n",
    "    print(process_tmp.split())\n"
   ]
  },
  {
   "cell_type": "code",
   "execution_count": 17,
   "id": "6fcd2a80-5540-49d8-9023-2b334b5fe8d3",
   "metadata": {
    "tags": []
   },
   "outputs": [
    {
     "name": "stdout",
     "output_type": "stream",
     "text": [
      "          seqid  position\n",
      "58     contig_1     13165\n",
      "59     contig_1     13167\n",
      "72     contig_1     14394\n",
      "73     contig_1     14396\n",
      "104    contig_1     18470\n",
      "...         ...       ...\n",
      "35962  contig_4   1118011\n",
      "35987  contig_4   1121505\n",
      "35988  contig_4   1121507\n",
      "35995  contig_4   1121925\n",
      "35996  contig_4   1121927\n",
      "\n",
      "[3042 rows x 2 columns]\n"
     ]
    },
    {
     "data": {
      "text/plain": [
       "19"
      ]
     },
     "execution_count": 17,
     "metadata": {},
     "output_type": "execute_result"
    }
   ],
   "source": [
    "#find_methylation_and_export(df_12_016, '12_016')\n",
    "'''\n",
    "CAGNNNNNNTYTC\n",
    "\n",
    "GARANNNNNNCTG\n",
    "GARANNNNNNCTG (ACCNNNNNNNTTCY,GARANNNNNNCTG)\n",
    "\n",
    "GTAYNNNNGTTA\n",
    "\n",
    "ACCNNNNNNNTTCY\n",
    "ACCNNNNNNNTTCY,RGAANNNNNNNGGT\n",
    "RGAANNNNNNNGGT\n",
    "RGAANNNNNNNGGT (ACCNNNNNNNTTCY,RGAANNNNNNNGGT)\n",
    "\n",
    "TAACNNNNRTAC\n",
    "'''\n",
    "\n",
    "len(\"AATTGACTCAGGCGTACTG\")"
   ]
  },
  {
   "cell_type": "code",
   "execution_count": 22,
   "id": "223be152-1734-4470-92e3-85474c0816c8",
   "metadata": {
    "tags": []
   },
   "outputs": [
    {
     "ename": "SyntaxError",
     "evalue": "EOL while scanning string literal (3314683429.py, line 21)",
     "output_type": "error",
     "traceback": [
      "\u001b[0;36m  Cell \u001b[0;32mIn[22], line 21\u001b[0;36m\u001b[0m\n\u001b[0;31m    motif_ACCNNNNNNNTTCY_12_016 = df_12_016.loc[(df_12_016['motif'] == 'ACCNNNNNNNTTCY') | (df_12_016['motif'] == 'ACCNNNNNN\u001b[0m\n\u001b[0m                                                                                                                            ^\u001b[0m\n\u001b[0;31mSyntaxError\u001b[0m\u001b[0;31m:\u001b[0m EOL while scanning string literal\n"
     ]
    }
   ],
   "source": [
    "# Reading the CSV file and storing it in a dataframe\n",
    "df_PACBIO = ours.read_csv(\"../Differences_epi_12-016_02-041_07-115/Methylation_Vaestu_alt.csv\", header=0)\n",
    "\n",
    "# Selecting rows with non-null values for Score_016 and keeping only the first 11 columns\n",
    "df_12_016 = df_PACBIO.loc[~df_PACBIO['Score_016'].isna(), df_PACBIO.columns[0:11]]\n",
    "\n",
    "# Selecting rows with non-null values for Score_115 and keeping columns 1-7 and 12-15\n",
    "df_07_115 = df_PACBIO.loc[~df_PACBIO['Score_115'].isna(), df_PACBIO.columns[[*range(0,7), *range(11,15)]]]\n",
    "\n",
    "# Selecting rows with non-null values for Score_041 and keeping columns 1-7 and 16-19\n",
    "df_02_041 = df_PACBIO.loc[~df_PACBIO['Score_041'].isna(), df_PACBIO.columns[[*range(0,7), *range(15,19)]]]\n",
    "\n",
    "# Separating motifs for strain 12_016 and calculating the end position of each motif\n",
    "motif_GATC_12_016 = df_12_016.loc[(df_12_016['motif'] == 'GATC') | (df_12_016['motif'] == 'GATC (GARANNNNNNCTG,GATC)'), df_12_016.columns[0:3]].copy()\n",
    "motif_CAGNNNNNNTYTC_12_016 = df_12_016.loc[df_12_016['motif'] == 'CAGNNNNNNTYTC', df_12_016.columns[0:3]].copy()\n",
    "motif_GARANNNNNNCTG_12_016 = df_12_016.loc[(df_12_016['motif'] == 'GARANNNNNNCTG') | (df_12_016['motif'] == 'GARANNNNNNCTG (ACCNNNNNNNTTCY,GARANNNNNNCTG)'), df_12_016.columns[0:3]].copy()\n",
    "motif_GGWCC_12_016 = df_12_016.loc[df_12_016['motif'] == 'GGWCC', df_12_016.columns[0:3]].copy()\n",
    "motif_GTAYNNNNGTTA_12_016 = df_12_016.loc[df_12_016['motif'] == 'GTAYNNNNGTTA', df_12_016.columns[0:2]].copy()\n",
    "motif_TAACNNNNRTAC_12_016 = df_12_016.loc[df_12_016['motif'] == 'TAACNNNNRTAC', df_12_016.columns[0:2]].copy()\n",
    "motif_RGAANNNNNNNGGT_12_016 = df_12_016.loc[df_12_016['motif'] == 'RGAANNNNNNNGGT', df_12_016.columns[0:2]].copy()\n",
    "motif_ACCNNNNNNNTTCY_12_016 = df_12_016.loc[(df_12_016['motif'] == 'ACCNNNNNNNTTCY') | (df_12_016['motif'] == 'ACCNNNNNN"
   ]
  }
 ],
 "metadata": {
  "kernelspec": {
   "display_name": "Python 3 (ipykernel)",
   "language": "python",
   "name": "python3"
  },
  "language_info": {
   "codemirror_mode": {
    "name": "ipython",
    "version": 3
   },
   "file_extension": ".py",
   "mimetype": "text/x-python",
   "name": "python",
   "nbconvert_exporter": "python",
   "pygments_lexer": "ipython3",
   "version": "3.9.12"
  }
 },
 "nbformat": 4,
 "nbformat_minor": 5
}
